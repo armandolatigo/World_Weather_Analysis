{
 "cells": [
  {
   "cell_type": "code",
   "execution_count": 1,
   "id": "a840129b",
   "metadata": {},
   "outputs": [],
   "source": [
    "# Import the random module\n",
    "import random"
   ]
  },
  {
   "cell_type": "code",
   "execution_count": 2,
   "id": "2e6ce9b5",
   "metadata": {},
   "outputs": [
    {
     "data": {
      "text/plain": [
       "5"
      ]
     },
     "execution_count": 2,
     "metadata": {},
     "output_type": "execute_result"
    }
   ],
   "source": [
    "random.randint(-90,90)"
   ]
  },
  {
   "cell_type": "code",
   "execution_count": 3,
   "id": "f4ae0d53",
   "metadata": {},
   "outputs": [
    {
     "data": {
      "text/plain": [
       "0.6724670247026743"
      ]
     },
     "execution_count": 3,
     "metadata": {},
     "output_type": "execute_result"
    }
   ],
   "source": [
    "random.random()"
   ]
  },
  {
   "cell_type": "code",
   "execution_count": 4,
   "id": "b417803e",
   "metadata": {},
   "outputs": [
    {
     "data": {
      "text/plain": [
       "-21.838595661422637"
      ]
     },
     "execution_count": 4,
     "metadata": {},
     "output_type": "execute_result"
    }
   ],
   "source": [
    "random_number = random.randint(-90,89) + random.random()\n",
    "random_number"
   ]
  },
  {
   "cell_type": "code",
   "execution_count": 5,
   "id": "6a948ad5",
   "metadata": {},
   "outputs": [
    {
     "data": {
      "text/plain": [
       "[30.18948630892748,\n",
       " -26.05639927013046,\n",
       " 10.241424469819673,\n",
       " -5.019402694623846,\n",
       " -10.778111565730915,\n",
       " 63.05147917116879,\n",
       " -66.80742167191211,\n",
       " -8.373952707517303,\n",
       " 16.92169984910043,\n",
       " 63.28424830926243]"
      ]
     },
     "execution_count": 5,
     "metadata": {},
     "output_type": "execute_result"
    }
   ],
   "source": [
    "x = 1\n",
    "latitudes = []\n",
    "while x < 11:\n",
    "    random_lat = random.randint(-90,90) + random.random()\n",
    "    latitudes.append(random_lat)\n",
    "    x+=1\n",
    "latitudes"
   ]
  },
  {
   "cell_type": "code",
   "execution_count": 6,
   "id": "5f63fc40",
   "metadata": {},
   "outputs": [
    {
     "data": {
      "text/plain": [
       "23"
      ]
     },
     "execution_count": 6,
     "metadata": {},
     "output_type": "execute_result"
    }
   ],
   "source": [
    "random.randrange(-90,90,step=1)"
   ]
  },
  {
   "cell_type": "code",
   "execution_count": 7,
   "id": "53854636",
   "metadata": {},
   "outputs": [
    {
     "data": {
      "text/plain": [
       "21"
      ]
     },
     "execution_count": 7,
     "metadata": {},
     "output_type": "execute_result"
    }
   ],
   "source": [
    "random.randrange(-90,90,step=3)"
   ]
  },
  {
   "cell_type": "code",
   "execution_count": 8,
   "id": "7846d848",
   "metadata": {},
   "outputs": [
    {
     "data": {
      "text/plain": [
       "-84.37841594462141"
      ]
     },
     "execution_count": 8,
     "metadata": {},
     "output_type": "execute_result"
    }
   ],
   "source": [
    "random.uniform(-90,90)"
   ]
  },
  {
   "cell_type": "code",
   "execution_count": 9,
   "id": "67d36bf8",
   "metadata": {},
   "outputs": [
    {
     "data": {
      "text/plain": [
       "-30.997"
      ]
     },
     "execution_count": 9,
     "metadata": {},
     "output_type": "execute_result"
    }
   ],
   "source": [
    "# experimenting\n",
    "round(random.uniform(-90,90),4)"
   ]
  },
  {
   "cell_type": "code",
   "execution_count": 10,
   "id": "5e19f063",
   "metadata": {},
   "outputs": [],
   "source": [
    "#Import the NumPy module\n",
    "import numpy as np"
   ]
  },
  {
   "cell_type": "code",
   "execution_count": 11,
   "id": "e273572c",
   "metadata": {},
   "outputs": [
    {
     "data": {
      "text/plain": [
       "41.6802883469999"
      ]
     },
     "execution_count": 11,
     "metadata": {},
     "output_type": "execute_result"
    }
   ],
   "source": [
    "np.random.uniform(-90.000,90.000)"
   ]
  },
  {
   "cell_type": "code",
   "execution_count": 12,
   "id": "ad999a60",
   "metadata": {},
   "outputs": [
    {
     "data": {
      "text/plain": [
       "-87.25982639736021"
      ]
     },
     "execution_count": 12,
     "metadata": {},
     "output_type": "execute_result"
    }
   ],
   "source": [
    "#code above can be written also as....\n",
    "np.random.uniform(low=-90, high=90)"
   ]
  },
  {
   "cell_type": "code",
   "execution_count": 13,
   "id": "c0ef7f91",
   "metadata": {},
   "outputs": [
    {
     "data": {
      "text/plain": [
       "array([-45.8861812 , -71.41004175,  13.13763386, -57.47408302,\n",
       "        32.31798257,  30.77396366, -50.98291218, -13.86592493,\n",
       "        41.53405004, -60.91082885, -39.70377631,  75.88351488,\n",
       "       -76.9432102 , -77.80486575, -38.23302052,  39.53308324,\n",
       "       -47.89236351,  61.07136012,  50.01890108, -85.94011701,\n",
       "        72.53505185, -70.61916407, -31.38366056,  32.39115358,\n",
       "        89.80208269,  27.52940732,  -1.37259326, -44.23220623,\n",
       "        -6.69069925, -78.17814591,  -4.58628017,  38.13952376,\n",
       "        78.00682954, -58.18205786, -42.63096259, -29.57259156,\n",
       "        13.84390325, -51.8875137 , -31.00110757, -24.84255783,\n",
       "         9.98905212, -60.65317725, -23.68407684,  46.28383831,\n",
       "         0.45551778, -15.42056372,  30.87519005, -18.45890411,\n",
       "       -51.3276948 ,  81.41240379])"
      ]
     },
     "execution_count": 13,
     "metadata": {},
     "output_type": "execute_result"
    }
   ],
   "source": [
    "np.random.uniform(-90.000,90.000,size=50)"
   ]
  },
  {
   "cell_type": "code",
   "execution_count": 14,
   "id": "885ea8ca",
   "metadata": {},
   "outputs": [
    {
     "name": "stdout",
     "output_type": "stream",
     "text": [
      "12.6 µs ± 122 ns per loop (mean ± std. dev. of 7 runs, 100000 loops each)\n"
     ]
    }
   ],
   "source": [
    "#Import timeit\n",
    "\n",
    "import timeit\n",
    "\n",
    "%timeit np.random.uniform(-90.000,90.000,size=1500)\n"
   ]
  },
  {
   "cell_type": "code",
   "execution_count": 37,
   "id": "68487cb9",
   "metadata": {
    "scrolled": true
   },
   "outputs": [
    {
     "name": "stdout",
     "output_type": "stream",
     "text": [
      "1.23 ms ± 17.1 µs per loop (mean ± std. dev. of 7 runs, 1000 loops each)\n"
     ]
    }
   ],
   "source": [
    "def latitudes(size):\n",
    "    latitudes = []\n",
    "    x = 0\n",
    "    while x < (size):\n",
    "        random_lat = random.randint(-90,90) + random.random()\n",
    "        latitudes.append(random_lat)\n",
    "        x += 1\n",
    "    return latitudes\n",
    "\n",
    "# Call the function with 1500\n",
    "%timeit latitudes(1500)"
   ]
  },
  {
   "cell_type": "code",
   "execution_count": 36,
   "id": "75516e35",
   "metadata": {},
   "outputs": [
    {
     "name": "stdout",
     "output_type": "stream",
     "text": [
      "18.1 ns ± 0.0173 ns per loop (mean ± std. dev. of 7 runs, 100000000 loops each)\n"
     ]
    }
   ],
   "source": [
    "#skilldrill 6.1.4\n",
    "\n",
    "#Refactor the code for the while loop with the %timeit magic command and write a for loop that will generate 1500 lat\n",
    "\n",
    "def latitudes():\n",
    "    latitudes = []\n",
    "    x = 0\n",
    "    while x < 1500:\n",
    "        random_lat = random.uniform(-90,90)\n",
    "        latitudes.append(random_lat)\n",
    "        x += 1\n",
    "    return latitudes\n",
    "\n",
    "%timeit latitudes\n"
   ]
  },
  {
   "cell_type": "code",
   "execution_count": null,
   "id": "8f4ad2fa",
   "metadata": {},
   "outputs": [],
   "source": []
  }
 ],
 "metadata": {
  "kernelspec": {
   "display_name": "Python 3 (ipykernel)",
   "language": "python",
   "name": "python3"
  },
  "language_info": {
   "codemirror_mode": {
    "name": "ipython",
    "version": 3
   },
   "file_extension": ".py",
   "mimetype": "text/x-python",
   "name": "python",
   "nbconvert_exporter": "python",
   "pygments_lexer": "ipython3",
   "version": "3.8.8"
  }
 },
 "nbformat": 4,
 "nbformat_minor": 5
}
